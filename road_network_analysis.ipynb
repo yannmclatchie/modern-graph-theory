{
 "cells": [
  {
   "cell_type": "code",
   "execution_count": 18,
   "metadata": {},
   "outputs": [],
   "source": [
    "import pandas as pd\n",
    "import numpy as np\n",
    "import networkx as nx\n",
    "\n",
    "DATA_PATH = \"./data/roadNet-CA.txt\""
   ]
  },
  {
   "cell_type": "code",
   "execution_count": 20,
   "metadata": {},
   "outputs": [],
   "source": [
    "G = nx.read_adjlist(DATA_PATH, create_using = nx.Graph(), nodetype = int)\n",
    "print(nx.info(G))"
   ]
  },
  {
   "cell_type": "markdown",
   "metadata": {},
   "source": [
    "### Shortest Path"
   ]
  },
  {
   "cell_type": "code",
   "execution_count": 24,
   "metadata": {},
   "outputs": [
    {
     "data": {
      "text/plain": [
       "[0,\n",
       " 2,\n",
       " 3,\n",
       " 419,\n",
       " 35698,\n",
       " 35405,\n",
       " 35404,\n",
       " 35406,\n",
       " 35705,\n",
       " 42047,\n",
       " 42046,\n",
       " 42048,\n",
       " 34935,\n",
       " 34941,\n",
       " 34940,\n",
       " 34725,\n",
       " 34726,\n",
       " 34712,\n",
       " 34713,\n",
       " 34714,\n",
       " 34710,\n",
       " 34711,\n",
       " 34265,\n",
       " 34266,\n",
       " 34290,\n",
       " 34716,\n",
       " 34717,\n",
       " 32758,\n",
       " 32759,\n",
       " 41439,\n",
       " 41440,\n",
       " 42795,\n",
       " 42806,\n",
       " 43427,\n",
       " 37139,\n",
       " 41063,\n",
       " 1430,\n",
       " 1444,\n",
       " 1443,\n",
       " 1442,\n",
       " 37106,\n",
       " 1252,\n",
       " 1352,\n",
       " 1353,\n",
       " 1345,\n",
       " 1346,\n",
       " 1349,\n",
       " 1363,\n",
       " 1339,\n",
       " 1226,\n",
       " 1230,\n",
       " 1273,\n",
       " 1300,\n",
       " 1299,\n",
       " 1269,\n",
       " 1270,\n",
       " 1298,\n",
       " 1297,\n",
       " 1296,\n",
       " 1223,\n",
       " 1205,\n",
       " 1199,\n",
       " 35,\n",
       " 36]"
      ]
     },
     "execution_count": 24,
     "metadata": {},
     "output_type": "execute_result"
    }
   ],
   "source": [
    "nx.shortest_path(G, 0 , 36)"
   ]
  },
  {
   "cell_type": "markdown",
   "metadata": {},
   "source": [
    "### Community Detection"
   ]
  },
  {
   "cell_type": "code",
   "execution_count": 26,
   "metadata": {},
   "outputs": [],
   "source": [
    "from networkx.algorithms import community"
   ]
  },
  {
   "cell_type": "code",
   "execution_count": null,
   "metadata": {},
   "outputs": [],
   "source": [
    "comms = community.label_propagation_communities(G)"
   ]
  }
 ],
 "metadata": {
  "kernelspec": {
   "display_name": "Python 3",
   "language": "python",
   "name": "python3"
  },
  "language_info": {
   "codemirror_mode": {
    "name": "ipython",
    "version": 3
   },
   "file_extension": ".py",
   "mimetype": "text/x-python",
   "name": "python",
   "nbconvert_exporter": "python",
   "pygments_lexer": "ipython3",
   "version": "3.7.1"
  }
 },
 "nbformat": 4,
 "nbformat_minor": 2
}
